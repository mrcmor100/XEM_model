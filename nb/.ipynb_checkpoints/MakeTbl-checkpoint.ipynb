{
 "cells": [
  {
   "cell_type": "code",
   "execution_count": 1,
   "metadata": {},
   "outputs": [],
   "source": [
    "import numpy as np\n",
    "import matplotlib.pyplot as plt\n",
    "import itertools as it"
   ]
  },
  {
   "cell_type": "code",
   "execution_count": 2,
   "metadata": {},
   "outputs": [],
   "source": [
    "def rangee(r_var):\n",
    "    return np.linspace(r_var[0],r_var[1],r_var[2])"
   ]
  },
  {
   "cell_type": "code",
   "execution_count": 3,
   "metadata": {},
   "outputs": [],
   "source": [
    "eb = 10.602\n",
    "\n",
    "r_x = [0.2,2.0, 80]\n",
    "r_th = [21,21,1]\n",
    "r_A = [2,2,1]\n",
    "r_Z = [1,1,1]"
   ]
  },
  {
   "cell_type": "code",
   "execution_count": 5,
   "metadata": {},
   "outputs": [
    {
     "name": "stdout",
     "output_type": "stream",
     "text": [
      "[1.]\n",
      "[2.]\n"
     ]
    }
   ],
   "source": [
    "print(rangee(r_Z))\n",
    "print(rangee(r_A))"
   ]
  },
  {
   "cell_type": "code",
   "execution_count": 7,
   "metadata": {},
   "outputs": [],
   "source": [
    "def calc_ep(eb, x, th):\n",
    "    return eb*x*0.93827 / (eb*-np.cos(th*3.14159/180.)+eb+0.93827*x)"
   ]
  },
  {
   "cell_type": "code",
   "execution_count": 8,
   "metadata": {},
   "outputs": [
    {
     "name": "stdout",
     "output_type": "stream",
     "text": [
      "eb\tep\t\tth\tA\tZ\n",
      "10.602\t2.23081e+00\t21\t2\t1\n",
      "10.602\t2.42678e+00\t21\t2\t1\n",
      "10.602\t2.61378e+00\t21\t2\t1\n",
      "10.602\t2.79242e+00\t21\t2\t1\n",
      "10.602\t2.96325e+00\t21\t2\t1\n",
      "10.602\t3.12676e+00\t21\t2\t1\n",
      "10.602\t3.28342e+00\t21\t2\t1\n",
      "10.602\t3.43365e+00\t21\t2\t1\n",
      "10.602\t3.57783e+00\t21\t2\t1\n",
      "10.602\t3.71633e+00\t21\t2\t1\n",
      "10.602\t3.84947e+00\t21\t2\t1\n",
      "10.602\t3.97756e+00\t21\t2\t1\n",
      "10.602\t4.10088e+00\t21\t2\t1\n",
      "10.602\t4.21970e+00\t21\t2\t1\n",
      "10.602\t4.33424e+00\t21\t2\t1\n",
      "10.602\t4.44475e+00\t21\t2\t1\n",
      "10.602\t4.55144e+00\t21\t2\t1\n",
      "10.602\t4.65448e+00\t21\t2\t1\n",
      "10.602\t4.75408e+00\t21\t2\t1\n",
      "10.602\t4.85039e+00\t21\t2\t1\n",
      "10.602\t4.94359e+00\t21\t2\t1\n",
      "10.602\t5.03381e+00\t21\t2\t1\n",
      "10.602\t5.12120e+00\t21\t2\t1\n",
      "10.602\t5.20589e+00\t21\t2\t1\n",
      "10.602\t5.28800e+00\t21\t2\t1\n",
      "10.602\t5.36765e+00\t21\t2\t1\n",
      "10.602\t5.44495e+00\t21\t2\t1\n",
      "10.602\t5.51999e+00\t21\t2\t1\n",
      "10.602\t5.59289e+00\t21\t2\t1\n",
      "10.602\t5.66372e+00\t21\t2\t1\n",
      "10.602\t5.73258e+00\t21\t2\t1\n",
      "10.602\t5.79954e+00\t21\t2\t1\n",
      "10.602\t5.86469e+00\t21\t2\t1\n",
      "10.602\t5.92810e+00\t21\t2\t1\n",
      "10.602\t5.98982e+00\t21\t2\t1\n",
      "10.602\t6.04994e+00\t21\t2\t1\n",
      "10.602\t6.10852e+00\t21\t2\t1\n",
      "10.602\t6.16560e+00\t21\t2\t1\n",
      "10.602\t6.22125e+00\t21\t2\t1\n",
      "10.602\t6.27553e+00\t21\t2\t1\n",
      "10.602\t6.32847e+00\t21\t2\t1\n",
      "10.602\t6.38014e+00\t21\t2\t1\n",
      "10.602\t6.43057e+00\t21\t2\t1\n",
      "10.602\t6.47981e+00\t21\t2\t1\n",
      "10.602\t6.52790e+00\t21\t2\t1\n",
      "10.602\t6.57488e+00\t21\t2\t1\n",
      "10.602\t6.62079e+00\t21\t2\t1\n",
      "10.602\t6.66566e+00\t21\t2\t1\n",
      "10.602\t6.70954e+00\t21\t2\t1\n",
      "10.602\t6.75245e+00\t21\t2\t1\n",
      "10.602\t6.79442e+00\t21\t2\t1\n",
      "10.602\t6.83549e+00\t21\t2\t1\n",
      "10.602\t6.87568e+00\t21\t2\t1\n",
      "10.602\t6.91502e+00\t21\t2\t1\n",
      "10.602\t6.95354e+00\t21\t2\t1\n",
      "10.602\t6.99126e+00\t21\t2\t1\n",
      "10.602\t7.02821e+00\t21\t2\t1\n",
      "10.602\t7.06441e+00\t21\t2\t1\n",
      "10.602\t7.09989e+00\t21\t2\t1\n",
      "10.602\t7.13466e+00\t21\t2\t1\n",
      "10.602\t7.16875e+00\t21\t2\t1\n",
      "10.602\t7.20218e+00\t21\t2\t1\n",
      "10.602\t7.23496e+00\t21\t2\t1\n",
      "10.602\t7.26711e+00\t21\t2\t1\n",
      "10.602\t7.29865e+00\t21\t2\t1\n",
      "10.602\t7.32961e+00\t21\t2\t1\n",
      "10.602\t7.35999e+00\t21\t2\t1\n",
      "10.602\t7.38981e+00\t21\t2\t1\n",
      "10.602\t7.41909e+00\t21\t2\t1\n",
      "10.602\t7.44783e+00\t21\t2\t1\n",
      "10.602\t7.47607e+00\t21\t2\t1\n",
      "10.602\t7.50380e+00\t21\t2\t1\n",
      "10.602\t7.53105e+00\t21\t2\t1\n",
      "10.602\t7.55782e+00\t21\t2\t1\n",
      "10.602\t7.58412e+00\t21\t2\t1\n",
      "10.602\t7.60998e+00\t21\t2\t1\n",
      "10.602\t7.63540e+00\t21\t2\t1\n",
      "10.602\t7.66039e+00\t21\t2\t1\n",
      "10.602\t7.68496e+00\t21\t2\t1\n",
      "10.602\t7.70912e+00\t21\t2\t1\n"
     ]
    }
   ],
   "source": [
    "print(\"eb\\tep\\t\\tth\\tA\\tZ\")\n",
    "for th_val in rangee(r_th):\n",
    "    for x_val in rangee(r_x):\n",
    "        ep_val = calc_ep(eb,x_val,th_val)\n",
    "        #print(\"{:6.3f}\\t{}\\t{:7.5e}\\t{}\\t{}\\t{}\".format(x_val,eb,ep_val,th_val,1,1))\n",
    "        print(\"{}\\t{:7.5e}\\t{:2n}\\t{}\\t{}\".format(eb,ep_val,th_val,2,1))"
   ]
  },
  {
   "cell_type": "code",
   "execution_count": null,
   "metadata": {},
   "outputs": [],
   "source": []
  },
  {
   "cell_type": "code",
   "execution_count": 20,
   "metadata": {},
   "outputs": [],
   "source": [
    "np.linspace?"
   ]
  },
  {
   "cell_type": "code",
   "execution_count": null,
   "metadata": {},
   "outputs": [],
   "source": []
  }
 ],
 "metadata": {
  "kernelspec": {
   "display_name": "Python 3",
   "language": "python",
   "name": "python3"
  },
  "language_info": {
   "codemirror_mode": {
    "name": "ipython",
    "version": 3
   },
   "file_extension": ".py",
   "mimetype": "text/x-python",
   "name": "python",
   "nbconvert_exporter": "python",
   "pygments_lexer": "ipython3",
   "version": "3.7.3"
  }
 },
 "nbformat": 4,
 "nbformat_minor": 4
}
