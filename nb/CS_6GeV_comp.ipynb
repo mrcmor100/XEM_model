{
 "cells": [
  {
   "cell_type": "code",
   "execution_count": null,
   "metadata": {},
   "outputs": [],
   "source": [
    "import os\n",
    "import getpass\n",
    "username = getpass.getuser()\n",
    "os.environ['MPLCONFIGDIR'] = \"~/group/c-xem2/%s/configs/\" % username\n",
    "import pandas as pd\n",
    "import matplotlib.pyplot as plt\n",
    "import numpy as np"
   ]
  },
  {
   "cell_type": "code",
   "execution_count": null,
   "metadata": {},
   "outputs": [],
   "source": [
    "#dataModelTable = pd.read_csv('xemModel4.dat',delim_whitespace =True,names=['Z','A','th','Ep','x_bj','Q2','W2','CS','CS_stat','sigTot20','sigQE20','sigIn20','sigTot09','sigQE09','sigIn09'], \\\n",
    "#    dtype={'Z':np.float64,'A':np.float64,'th':np.float64,'Ep':np.float64,'x_bj':np.float64,'Q2':np.float64,'W2':np.float64,'CS':np.float64,'CS_stat':np.float64,'sigTot20':np.float64,'sigQE20':np.float64,'sigIn20':np.float64,'sigTot09':np.float64,'sigQE09':np.float64,'sigIn09':np.float64})\n",
    "#print(dataModelTable.columns)\n",
    "#print(dataModelTable)\n",
    "dataModelTable = pd.read_csv('../output/xemModel14.dat',delim_whitespace =True,names=['Z','A','th','Ep','x_bj','CS','CS_stat','sigTotXEM','sigQEXEM','sigInXEM'], \\\n",
    "    dtype={'Z':np.float64,'A':np.float64,'th':np.float64,'Ep':np.float64,'x_bj':np.float64,'CS':np.float64,'CS_stat':np.float64,'sigTotXEM':np.float64,'sigQEXEM':np.float64,'sigInXEM':np.float64})\n",
    "#dataModelTable = pd.read_csv('../output/cs_comp/wo_jfac/cs_comp2.out',delim_whitespace =True,names=['Y','A','Z','th','Ep','x_bj','sigInXEM','sigQEXEM','CS','CS_stat'], \\\n",
    "#    dtype={'Y':np.float64,'Z':np.float64,'A':np.float64,'th':np.float64,'Ep':np.float64,'x_bj':np.float64,'CS':np.float64,'CS_stat':np.float64,'sigQEXEM':np.float64,'sigInXEM':np.float64})\n",
    "#print(dataModelTable.columns)\n",
    "#print(dataModelTable)\n"
   ]
  },
  {
   "cell_type": "code",
   "execution_count": null,
   "metadata": {},
   "outputs": [],
   "source": [
    "uAngle = np.unique(dataModelTable['th'])\n",
    "uAngle = np.unique(uAngle[~np.isnan(uAngle)])\n",
    "uTarget = np.unique(dataModelTable['A'])\n",
    "uTarget = np.unique(uTarget[~np.isnan(uTarget)])\n",
    "#print(uAngle,'\\n',uTarget)"
   ]
  },
  {
   "cell_type": "code",
   "execution_count": null,
   "metadata": {},
   "outputs": [],
   "source": [
    "def mask(df, key, value):\n",
    "    return df[df[key] == value]\n",
    "pd.DataFrame.mask = mask"
   ]
  },
  {
   "cell_type": "code",
   "execution_count": null,
   "metadata": {},
   "outputs": [],
   "source": [
    "uIdentifier = [(target,angle) for target in uTarget for angle in uAngle]\n",
    "#print(uIdentifier)\n",
    "\n",
    "l_crossSections = []\n",
    "for identifier in uIdentifier:\n",
    "    tmp_df = dataModelTable.mask('A',identifier[0])\n",
    "    idx = tmp_df.mask('th',identifier[1]).index\n",
    "    if len(idx) > 0:\n",
    "        l_crossSections.append(dataModelTable.loc[idx])\n",
    "        #print(identifier[0], identifier[1], '\\t\\t', len(l_crossSections))"
   ]
  },
  {
   "cell_type": "code",
   "execution_count": null,
   "metadata": {},
   "outputs": [],
   "source": [
    "def mask2(df, key, value):\n",
    "    return df[df[key] >= value ]\n",
    "pd.DataFrame.mask = mask2"
   ]
  },
  {
   "cell_type": "code",
   "execution_count": null,
   "metadata": {},
   "outputs": [],
   "source": [
    "l_crossSectionsCut = []\n",
    "for df in l_crossSections:\n",
    "    idx = df.mask('x_bj',0).index\n",
    "    l_crossSectionsCut.append(df.loc[idx])\n",
    "for df in l_crossSectionsCut:\n",
    "    df['sigInXEM'] = df['sigInXEM'] / 1000.\n",
    "    df['sigQEXEM'] = df['sigQEXEM'] * 1000.\n",
    "    \n",
    "    df['sigTotXEM'] = df['sigQEXEM'] + df['sigInXEM']\n",
    "    \n",
    "    #df['CS_stat'] = df['CS_stat'] * 1000.\n",
    "    \n",
    "    df['data_ratioXEM'] = df['CS'] / df['sigTotXEM']\n"
   ]
  },
  {
   "cell_type": "code",
   "execution_count": null,
   "metadata": {},
   "outputs": [],
   "source": [
    "def determineTarg(A):\n",
    "    if A == 2: return \"Deuterium\"\n",
    "    elif A == 3: return \"Helium3\"\n",
    "    elif A == 4: return \"Helium4\"\n",
    "    elif A == 9: return \"Beryllium\"\n",
    "    elif A == 12: return \"Carbon\"\n",
    "    elif A == 64: return \"Copper\"\n",
    "    elif A == 197: return \"Gold\"\n",
    "    else: return \"CRAP\""
   ]
  },
  {
   "cell_type": "code",
   "execution_count": null,
   "metadata": {},
   "outputs": [],
   "source": [
    "def my_plotter(df):\n",
    "    xmin=0.3\n",
    "    xmax=0\n",
    "    ymin=1e-9\n",
    "    ymax=1e1\n",
    "    doLog = True\n",
    "    fig, ax1 = plt.subplots(2,1,figsize=(10, 2*6))\n",
    "\n",
    "    if len(df['A']) > 0.:\n",
    "        targ = determineTarg(df['A'].iloc[0])\n",
    "        ax1[0].set_title('%s, at %2.0f degrees' % (targ, df['th'].iloc[0]),fontsize=14)\n",
    "        ax1[1].set_title('%s, at %2.0f degrees' % (targ, df['th'].iloc[0]),fontsize=14)\n",
    "\n",
    "        xmax = 2. if (df['x_bj'].iloc[-1] + 0.2 > 2.) else df['x_bj'].iloc[-1] + 0.1\n",
    "        #xmax=3\n",
    "        if(df['A'].iloc[0] < 3):\n",
    "            xmax=2\n",
    "    #Models and Data Comparisons\n",
    "    df.plot.scatter('x_bj','CS',c='orange',s=56,marker='o',linestyle='None',yerr='CS_stat',xlim=(xmin,xmax),ylim=(ymin,ymax),ax=ax1[0],logy=doLog, label='6GeV Data',fontsize=14)\n",
    "    df.plot.scatter('x_bj','sigQEXEM',c='tab:red',s=26,marker='v',linestyle='None',xlim=(xmin,xmax),ylim=(ymin,ymax),ax=ax1[0],logy=doLog, label='QE XEM Model',fontsize=14)\n",
    "    df.plot.scatter('x_bj','sigInXEM',c='tab:blue',s=26,marker='^',linestyle='None',xlim=(xmin,xmax),ylim=(ymin,ymax),ax=ax1[0],logy=doLog, label='DIS XEM Model',fontsize=14)\n",
    "    df.plot.scatter('x_bj','sigTotXEM',c='indigo',s=16,marker='d',linestyle='None',xlim=(xmin,xmax),ylim=(ymin,ymax),ax=ax1[0],logy=doLog, label='XEM Model',fontsize=14)\n",
    "    \n",
    "    #Ratio plot\n",
    "    df.plot.scatter('x_bj','data_ratioXEM',c='green',marker='o',linestyle='None',xlim=(xmin,xmax),ylim=(0.75,1.25),logy=False,ax=ax1[1])\n",
    "    ax1[0].legend(fontsize=14)\n",
    "    ax1[0].set_ylabel(\"Cross Section\",fontsize=14)\n",
    "    ax1[0].set_xlabel(\"X\",fontsize=14)\n",
    "\n",
    "    plt.savefig('../output/figures/%s_at_%2.0fdeg.png' % (targ, df['th'].iloc[0]),bbox_inches='tight')\n",
    "    ax1[1].set_ylabel(\"Ratio\",fontsize=14)\n",
    "    ax1[0].set_xlabel(\"X\",fontsize=14)\n",
    "\n",
    "    \n",
    "    return"
   ]
  },
  {
   "cell_type": "code",
   "execution_count": null,
   "metadata": {},
   "outputs": [],
   "source": [
    "nPlots = len(l_crossSectionsCut)*2\n",
    "print(nPlots)\n",
    "\n",
    "for df in l_crossSectionsCut:\n",
    "    my_plotter(df)"
   ]
  }
 ],
 "metadata": {
  "kernelspec": {
   "display_name": "Python 3",
   "language": "python",
   "name": "python3"
  },
  "language_info": {
   "codemirror_mode": {
    "name": "ipython",
    "version": 3
   },
   "file_extension": ".py",
   "mimetype": "text/x-python",
   "name": "python",
   "nbconvert_exporter": "python",
   "pygments_lexer": "ipython3",
   "version": "3.8.6"
  }
 },
 "nbformat": 4,
 "nbformat_minor": 4
}
