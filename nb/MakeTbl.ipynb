{
 "cells": [
  {
   "cell_type": "code",
   "execution_count": null,
   "metadata": {},
   "outputs": [],
   "source": [
    "import numpy as np;"
   ]
  },
  {
   "cell_type": "code",
   "execution_count": null,
   "metadata": {},
   "outputs": [],
   "source": [
    "def rangee(r_var):\n",
    "    return np.linspace(r_var[0],r_var[1],r_var[2])"
   ]
  },
  {
   "cell_type": "code",
   "execution_count": null,
   "metadata": {},
   "outputs": [],
   "source": [
    "def calc_ep(eb, x, th):\n",
    "    return eb*x*0.93827 / (eb*-np.cos(th*3.14159/180.)+eb+0.93827*x)"
   ]
  },
  {
   "cell_type": "code",
   "execution_count": null,
   "metadata": {},
   "outputs": [],
   "source": [
    "eb = 10.602\n",
    "r_x = [0.2,4.0, 77]\n",
    "r_th = [4.00, 12.00, 21]\n",
    "r_name = ['carbon','boron11','boron10','beryllium','deuterium','hydrogen']\n",
    "r_A = [12,11,10,9,2,1]\n",
    "r_Z = [6,5,5,4,1,1]"
   ]
  },
  {
   "cell_type": "code",
   "execution_count": null,
   "metadata": {},
   "outputs": [],
   "source": [
    "for a, z, fname in zip(r_A,r_Z, r_name):\n",
    "    rp = open('../input/rp_sp18_8deg_%s.inp' % (fname),'w')\n",
    "    for th_val in rangee(r_th):\n",
    "        for x_val in rangee(r_x):\n",
    "            ep_val = calc_ep(eb,x_val,th_val)\n",
    "            rp.write(\"{:6.3f} {:6.3f} {:6.3f} {} {}\\n\".format(eb,ep_val,th_val,a,z))\n",
    "    rp.close()"
   ]
  },
  {
   "cell_type": "code",
   "execution_count": null,
   "metadata": {},
   "outputs": [],
   "source": []
  }
 ],
 "metadata": {
  "kernelspec": {
   "display_name": "Python 3",
   "language": "python",
   "name": "python3"
  },
  "language_info": {
   "codemirror_mode": {
    "name": "ipython",
    "version": 3
   },
   "file_extension": ".py",
   "mimetype": "text/x-python",
   "name": "python",
   "nbconvert_exporter": "python",
   "pygments_lexer": "ipython3",
   "version": "3.8.6"
  }
 },
 "nbformat": 4,
 "nbformat_minor": 4
}
