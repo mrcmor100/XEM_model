{
 "cells": [
  {
   "cell_type": "code",
   "execution_count": 1,
   "metadata": {},
   "outputs": [
    {
     "name": "stderr",
     "output_type": "stream",
     "text": [
      "Matplotlib created a temporary config/cache directory at /tmp/matplotlib-0zpmr2h8 because the default path (/home/jovyan/.cache/matplotlib) is not a writable directory; it is highly recommended to set the MPLCONFIGDIR environment variable to a writable directory, in particular to speed up the import of Matplotlib and to better support multiprocessing.\n"
     ]
    }
   ],
   "source": [
    "import numpy as np\n",
    "import matplotlib.pyplot as plt\n",
    "import itertools as it"
   ]
  },
  {
   "cell_type": "code",
   "execution_count": 2,
   "metadata": {},
   "outputs": [],
   "source": [
    "def rangee(r_var):\n",
    "    return np.linspace(r_var[0],r_var[1],r_var[2])"
   ]
  },
  {
   "cell_type": "code",
   "execution_count": 12,
   "metadata": {},
   "outputs": [],
   "source": [
    "eb = 10.602\n",
    "\n",
    "r_x = [0.2,2.0, 100]\n",
    "r_th = [8,8,1]\n",
    "r_A = [2,2,1]\n",
    "r_Z = [1,1,1]"
   ]
  },
  {
   "cell_type": "code",
   "execution_count": 13,
   "metadata": {},
   "outputs": [
    {
     "name": "stdout",
     "output_type": "stream",
     "text": [
      "[1.]\n",
      "[2.]\n",
      "[0.2        0.21818182 0.23636364 0.25454545 0.27272727 0.29090909\n",
      " 0.30909091 0.32727273 0.34545455 0.36363636 0.38181818 0.4\n",
      " 0.41818182 0.43636364 0.45454545 0.47272727 0.49090909 0.50909091\n",
      " 0.52727273 0.54545455 0.56363636 0.58181818 0.6        0.61818182\n",
      " 0.63636364 0.65454545 0.67272727 0.69090909 0.70909091 0.72727273\n",
      " 0.74545455 0.76363636 0.78181818 0.8        0.81818182 0.83636364\n",
      " 0.85454545 0.87272727 0.89090909 0.90909091 0.92727273 0.94545455\n",
      " 0.96363636 0.98181818 1.         1.01818182 1.03636364 1.05454545\n",
      " 1.07272727 1.09090909 1.10909091 1.12727273 1.14545455 1.16363636\n",
      " 1.18181818 1.2        1.21818182 1.23636364 1.25454545 1.27272727\n",
      " 1.29090909 1.30909091 1.32727273 1.34545455 1.36363636 1.38181818\n",
      " 1.4        1.41818182 1.43636364 1.45454545 1.47272727 1.49090909\n",
      " 1.50909091 1.52727273 1.54545455 1.56363636 1.58181818 1.6\n",
      " 1.61818182 1.63636364 1.65454545 1.67272727 1.69090909 1.70909091\n",
      " 1.72727273 1.74545455 1.76363636 1.78181818 1.8        1.81818182\n",
      " 1.83636364 1.85454545 1.87272727 1.89090909 1.90909091 1.92727273\n",
      " 1.94545455 1.96363636 1.98181818 2.        ]\n"
     ]
    }
   ],
   "source": [
    "print(rangee(r_Z))\n",
    "print(rangee(r_A))\n",
    "print(rangee(r_x))"
   ]
  },
  {
   "cell_type": "code",
   "execution_count": 14,
   "metadata": {},
   "outputs": [],
   "source": [
    "def calc_ep(eb, x, th):\n",
    "    return eb*x*0.93827 / (eb*-np.cos(th*3.14159/180.)+eb+0.93827*x)"
   ]
  },
  {
   "cell_type": "code",
   "execution_count": 15,
   "metadata": {},
   "outputs": [
    {
     "name": "stdout",
     "output_type": "stream",
     "text": [
      "eb\tep\t\tth\tA\tZ\n"
     ]
    }
   ],
   "source": [
    "comparisons1 = open('../input/comparison_all_scgsr_ca40.inp','w')\n",
    "comparisons2 = open('../input/comparison_all_scgsr_ca48.inp','w')\n",
    "comparisons3 = open('../input/comparison_all_scgsr_li7.inp','w')\n",
    "comparisons4 = open('../input/comparison_all_scgsr_li6.inp','w')\n",
    "comparisons5 = open('../input/comparison_all_scgsr_d2.inp','w')\n",
    "print(\"eb\\tep\\t\\tth\\tA\\tZ\")\n",
    "for th_val in rangee(r_th):\n",
    "    for x_val in rangee(r_x):\n",
    "        ep_val = calc_ep(eb,x_val,th_val)\n",
    "        #print(\"{:6.3f}\\t{}\\t{:7.5e}\\t{}\\t{}\\t{}\".format(x_val,eb,ep_val,th_val,1,1))\n",
    "        comparisons1.write(\"{}\\t{:7.5e}\\t{:2n}\\t{}\\t{}\\n\".format(eb,ep_val,th_val,40,20))\n",
    "        \n",
    "    for x_val in rangee(r_x):\n",
    "        ep_val = calc_ep(eb,x_val,th_val)\n",
    "        #print(\"{:6.3f}\\t{}\\t{:7.5e}\\t{}\\t{}\\t{}\".format(x_val,eb,ep_val,th_val,2,1))\n",
    "        comparisons2.write(\"{}\\t{:7.5e}\\t{:2n}\\t{}\\t{}\\n\".format(eb,ep_val,th_val,48,20))\n",
    "        \n",
    "    for x_val in rangee(r_x):\n",
    "        ep_val = calc_ep(eb,x_val,th_val)\n",
    "        #print(\"{:6.3f}\\t{}\\t{:7.5e}\\t{}\\t{}\\t{}\".format(x_val,eb,ep_val,th_val,1,1))\n",
    "        comparisons3.write(\"{}\\t{:7.5e}\\t{:2n}\\t{}\\t{}\\n\".format(eb,ep_val,th_val,7,3))\n",
    "    for x_val in rangee(r_x):\n",
    "        ep_val = calc_ep(eb,x_val,th_val)\n",
    "        #print(\"{:6.3f}\\t{}\\t{:7.5e}\\t{}\\t{}\\t{}\".format(x_val,eb,ep_val,th_val,2,1))\n",
    "        comparisons4.write(\"{}\\t{:7.5e}\\t{:2n}\\t{}\\t{}\\n\".format(eb,ep_val,th_val,6,3))\n",
    "    for x_val in rangee(r_x):\n",
    "        ep_val = calc_ep(eb,x_val,th_val)\n",
    "        #print(\"{:6.3f}\\t{}\\t{:7.5e}\\t{}\\t{}\\t{}\".format(x_val,eb,ep_val,th_val,1,1))\n",
    "        comparisons5.write(\"{}\\t{:7.5e}\\t{:2n}\\t{}\\t{}\\n\".format(eb,ep_val,th_val,2,1)) \n",
    "    '''\n",
    "    for x_val in rangee(r_x):\n",
    "        ep_val = calc_ep(eb,x_val,th_val)\n",
    "        #print(\"{:6.3f}\\t{}\\t{:7.5e}\\t{}\\t{}\\t{}\".format(x_val,eb,ep_val,th_val,2,1))\n",
    "        comparisons.write(\"{}\\t{:7.5e}\\t{:2n}\\t{}\\t{}\\n\".format(eb,ep_val,th_val,27,13))\n",
    "        \n",
    "    for x_val in rangee(r_x):\n",
    "        ep_val = calc_ep(eb,x_val,th_val)\n",
    "        #print(\"{:6.3f}\\t{}\\t{:7.5e}\\t{}\\t{}\\t{}\".format(x_val,eb,ep_val,th_val,1,1))\n",
    "        comparisons.write(\"{}\\t{:7.5e}\\t{:2n}\\t{}\\t{}\\n\".format(eb,ep_val,th_val,64,29))\n",
    "    for x_val in rangee(r_x):\n",
    "        ep_val = calc_ep(eb,x_val,th_val)\n",
    "        #print(\"{:6.3f}\\t{}\\t{:7.5e}\\t{}\\t{}\\t{}\".format(x_val,eb,ep_val,th_val,2,1))\n",
    "        comparisons.write(\"{}\\t{:7.5e}\\t{:2n}\\t{}\\t{}\\n\".format(eb,ep_val,th_val,197,79))\n",
    "    ''' \n",
    "comparisons1.close()\n",
    "comparisons2.close()\n",
    "comparisons3.close()\n",
    "comparisons4.close()\n",
    "comparisons5.close()"
   ]
  },
  {
   "cell_type": "code",
   "execution_count": 20,
   "metadata": {},
   "outputs": [],
   "source": [
    "np.linspace?"
   ]
  },
  {
   "cell_type": "code",
   "execution_count": null,
   "metadata": {},
   "outputs": [],
   "source": []
  }
 ],
 "metadata": {
  "kernelspec": {
   "display_name": "Python 3",
   "language": "python",
   "name": "python3"
  },
  "language_info": {
   "codemirror_mode": {
    "name": "ipython",
    "version": 3
   },
   "file_extension": ".py",
   "mimetype": "text/x-python",
   "name": "python",
   "nbconvert_exporter": "python",
   "pygments_lexer": "ipython3",
   "version": "3.8.6"
  }
 },
 "nbformat": 4,
 "nbformat_minor": 4
}
