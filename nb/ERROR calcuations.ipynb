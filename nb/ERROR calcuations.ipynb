{
 "cells": [
  {
   "cell_type": "code",
   "execution_count": 1,
   "metadata": {},
   "outputs": [
    {
     "name": "stderr",
     "output_type": "stream",
     "text": [
      "Matplotlib created a temporary config/cache directory at /tmp/matplotlib-p54x1j8m because the default path (/home/jovyan/.cache/matplotlib) is not a writable directory; it is highly recommended to set the MPLCONFIGDIR environment variable to a writable directory, in particular to speed up the import of Matplotlib and to better support multiprocessing.\n"
     ]
    },
    {
     "name": "stdout",
     "output_type": "stream",
     "text": [
      "Populating the interactive namespace from numpy and matplotlib\n"
     ]
    }
   ],
   "source": [
    "pylab inline"
   ]
  },
  {
   "cell_type": "code",
   "execution_count": 2,
   "metadata": {},
   "outputs": [],
   "source": [
    "from sympy import symbols, Eq, solve"
   ]
  },
  {
   "cell_type": "markdown",
   "metadata": {},
   "source": [
    "# function that calculates error as a percent\n",
    "given Nc and Nd\n",
    "note: for this equasion 6% is 0.06"
   ]
  },
  {
   "cell_type": "code",
   "execution_count": 3,
   "metadata": {},
   "outputs": [],
   "source": [
    "def ErrorEq(Nc,Nd):\n",
    "    return sqrt((Nd)**(-2)*(Nc)+(-Nc/Nd**2)**2*(Nd))/(Nc/Nd)"
   ]
  },
  {
   "cell_type": "code",
   "execution_count": 15,
   "metadata": {},
   "outputs": [
    {
     "data": {
      "text/plain": [
       "0.0203100960115899"
      ]
     },
     "execution_count": 15,
     "metadata": {},
     "output_type": "execute_result"
    }
   ],
   "source": [
    "ErrorEq(3200, 10000)"
   ]
  },
  {
   "cell_type": "markdown",
   "metadata": {},
   "source": [
    "# setting target error"
   ]
  },
  {
   "cell_type": "code",
   "execution_count": 9,
   "metadata": {},
   "outputs": [],
   "source": [
    "TargetError = .02\n",
    "rnage = .001"
   ]
  },
  {
   "cell_type": "markdown",
   "metadata": {},
   "source": [
    "rnage is used in the numerical calculation for inigers.\n",
    "it is the accepted percent range above and below the target error.\n",
    "accepted range: TargetError +- TargetError*rnage"
   ]
  },
  {
   "cell_type": "markdown",
   "metadata": {},
   "source": [
    "# numerical calculation for  intiger values\n",
    "takes a min. or so to run for 10000*10000 at target error of .06"
   ]
  },
  {
   "cell_type": "code",
   "execution_count": 6,
   "metadata": {},
   "outputs": [],
   "source": [
    "Ncmax = 10000\n",
    "Ndmax = 10000"
   ]
  },
  {
   "cell_type": "code",
   "execution_count": 7,
   "metadata": {},
   "outputs": [
    {
     "name": "stdout",
     "output_type": "stream",
     "text": [
      "0.05994 0.060059999999999995\n"
     ]
    }
   ],
   "source": [
    "sig = 100\n",
    "print (TargetError - TargetError*rnage,TargetError + TargetError*rnage)   \n",
    "i=1\n",
    "arrays = []\n",
    "while i < Ncmax:\n",
    "    j=1\n",
    "    while j < Ndmax:\n",
    "        sig = ErrorEq(i,j)\n",
    "        if sig <= TargetError + TargetError*rnage and sig >= TargetError - TargetError*rnage:  \n",
    "            #array_tuple = [i,j,sig]\n",
    "            #arrays = arrays.append(array_tuple)\n",
    "            #print(i,j,sig)\n",
    "            break\n",
    "        j+=1\n",
    "    i+=1"
   ]
  },
  {
   "cell_type": "raw",
   "metadata": {},
   "source": [
    "the above output:\n",
    "    line one:\n",
    "        range of accepted error values in this run\n",
    "    the other lines:\n",
    "        Nc Nd error% with 6% = 0.06"
   ]
  },
  {
   "cell_type": "markdown",
   "metadata": {},
   "source": [
    "# using sympy to exactly solve for the target error\n",
    "may not give intigers"
   ]
  },
  {
   "cell_type": "code",
   "execution_count": 10,
   "metadata": {},
   "outputs": [
    {
     "name": "stdout",
     "output_type": "stream",
     "text": [
      "Equation 1:\n",
      "Eq(1/Nd + 1/Nc, 0.0004)\n",
      "Equation 2:\n",
      "Eq(-Nc + Nd, 0)\n",
      "Values of 2 unknown variable are as follows:\n",
      "[(5000.00000000000, 5000.00000000000)]\n",
      "[(2500.0*Nc/(Nc - 2500.0), Nc)]\n"
     ]
    }
   ],
   "source": [
    "# importing library sympy\n",
    "from sympy import symbols, Eq, solve\n",
    "\n",
    "# defining symbols used in equations\n",
    "# or unknown variables\n",
    "Nd, Nc = symbols('Nd,Nc')\n",
    "\n",
    "# defining equations\n",
    "eq1 = Eq(((1/Nc)+(1/Nd)), TargetError**2)\n",
    "print(\"Equation 1:\")\n",
    "print(eq1)\n",
    "eq2 = Eq((Nd-Nc), 0)\n",
    "print(\"Equation 2:\")\n",
    "print(eq2)\n",
    "\n",
    "# solving the equation\n",
    "print(\"Values of 2 unknown variable are as follows:\")\n",
    "\n",
    "print(solve((eq1,eq2), (Nd, Nc)))\n",
    "print(solve((eq1), (Nd, Nc)))"
   ]
  },
  {
   "cell_type": "raw",
   "metadata": {},
   "source": [
    "the obove:\n",
    "    the solved eq's\n",
    "        eq 1 is the partally solved sigma_f for the target error\n",
    "        eq 2 folows from the assumption that the scaling factors in sigma_f are the same\n",
    "    The values\n",
    "        the first uses eq 1 and 2 to get a unique answer\n",
    "        the second is a general answer for a given Nc"
   ]
  },
  {
   "cell_type": "code",
   "execution_count": null,
   "metadata": {},
   "outputs": [],
   "source": []
  },
  {
   "cell_type": "code",
   "execution_count": null,
   "metadata": {},
   "outputs": [],
   "source": []
  },
  {
   "cell_type": "code",
   "execution_count": null,
   "metadata": {},
   "outputs": [],
   "source": []
  }
 ],
 "metadata": {
  "kernelspec": {
   "display_name": "Python 3",
   "language": "python",
   "name": "python3"
  },
  "language_info": {
   "codemirror_mode": {
    "name": "ipython",
    "version": 3
   },
   "file_extension": ".py",
   "mimetype": "text/x-python",
   "name": "python",
   "nbconvert_exporter": "python",
   "pygments_lexer": "ipython3",
   "version": "3.8.6"
  }
 },
 "nbformat": 4,
 "nbformat_minor": 4
}
